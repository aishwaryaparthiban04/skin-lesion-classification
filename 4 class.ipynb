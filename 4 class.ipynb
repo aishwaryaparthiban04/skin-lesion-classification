{
 "cells": [
  {
   "cell_type": "code",
   "execution_count": 1,
   "id": "b39bfef7",
   "metadata": {},
   "outputs": [],
   "source": [
    "import numpy as np \n",
    "import matplotlib.pyplot as plt\n",
    "import glob\n",
    "import cv2\n",
    "import os\n",
    "import seaborn as sns\n",
    "import pandas as pd\n",
    "from skimage.io import imshow, imread\n",
    "from skimage.color import rgb2gray\n",
    "from skimage.feature import hog\n",
    "from sklearn.model_selection import train_test_split\n",
    "import shutil\n",
    "from tensorflow.keras.models import load_model\n",
    "from sklearn.metrics import classification_report, confusion_matrix\n",
    "import warnings\n",
    "warnings.filterwarnings('ignore')"
   ]
  },
  {
   "cell_type": "code",
   "execution_count": 2,
   "id": "d20b8268",
   "metadata": {},
   "outputs": [
    {
     "data": {
      "text/html": [
       "<div>\n",
       "<style scoped>\n",
       "    .dataframe tbody tr th:only-of-type {\n",
       "        vertical-align: middle;\n",
       "    }\n",
       "\n",
       "    .dataframe tbody tr th {\n",
       "        vertical-align: top;\n",
       "    }\n",
       "\n",
       "    .dataframe thead th {\n",
       "        text-align: right;\n",
       "    }\n",
       "</style>\n",
       "<table border=\"1\" class=\"dataframe\">\n",
       "  <thead>\n",
       "    <tr style=\"text-align: right;\">\n",
       "      <th></th>\n",
       "      <th>lesion_id</th>\n",
       "      <th>image_id</th>\n",
       "      <th>dx</th>\n",
       "      <th>dx_type</th>\n",
       "      <th>age</th>\n",
       "      <th>sex</th>\n",
       "      <th>localization</th>\n",
       "      <th>dataset</th>\n",
       "    </tr>\n",
       "  </thead>\n",
       "  <tbody>\n",
       "    <tr>\n",
       "      <th>0</th>\n",
       "      <td>HAM_0000118</td>\n",
       "      <td>ISIC_0027419</td>\n",
       "      <td>bkl</td>\n",
       "      <td>histo</td>\n",
       "      <td>80.0</td>\n",
       "      <td>male</td>\n",
       "      <td>scalp</td>\n",
       "      <td>vidir_modern</td>\n",
       "    </tr>\n",
       "    <tr>\n",
       "      <th>1</th>\n",
       "      <td>HAM_0000118</td>\n",
       "      <td>ISIC_0025030</td>\n",
       "      <td>bkl</td>\n",
       "      <td>histo</td>\n",
       "      <td>80.0</td>\n",
       "      <td>male</td>\n",
       "      <td>scalp</td>\n",
       "      <td>vidir_modern</td>\n",
       "    </tr>\n",
       "    <tr>\n",
       "      <th>2</th>\n",
       "      <td>HAM_0002730</td>\n",
       "      <td>ISIC_0026769</td>\n",
       "      <td>bkl</td>\n",
       "      <td>histo</td>\n",
       "      <td>80.0</td>\n",
       "      <td>male</td>\n",
       "      <td>scalp</td>\n",
       "      <td>vidir_modern</td>\n",
       "    </tr>\n",
       "    <tr>\n",
       "      <th>3</th>\n",
       "      <td>HAM_0002730</td>\n",
       "      <td>ISIC_0025661</td>\n",
       "      <td>bkl</td>\n",
       "      <td>histo</td>\n",
       "      <td>80.0</td>\n",
       "      <td>male</td>\n",
       "      <td>scalp</td>\n",
       "      <td>vidir_modern</td>\n",
       "    </tr>\n",
       "    <tr>\n",
       "      <th>4</th>\n",
       "      <td>HAM_0001466</td>\n",
       "      <td>ISIC_0031633</td>\n",
       "      <td>bkl</td>\n",
       "      <td>histo</td>\n",
       "      <td>75.0</td>\n",
       "      <td>male</td>\n",
       "      <td>ear</td>\n",
       "      <td>vidir_modern</td>\n",
       "    </tr>\n",
       "  </tbody>\n",
       "</table>\n",
       "</div>"
      ],
      "text/plain": [
       "     lesion_id      image_id   dx dx_type   age   sex localization  \\\n",
       "0  HAM_0000118  ISIC_0027419  bkl   histo  80.0  male        scalp   \n",
       "1  HAM_0000118  ISIC_0025030  bkl   histo  80.0  male        scalp   \n",
       "2  HAM_0002730  ISIC_0026769  bkl   histo  80.0  male        scalp   \n",
       "3  HAM_0002730  ISIC_0025661  bkl   histo  80.0  male        scalp   \n",
       "4  HAM_0001466  ISIC_0031633  bkl   histo  75.0  male          ear   \n",
       "\n",
       "        dataset  \n",
       "0  vidir_modern  \n",
       "1  vidir_modern  \n",
       "2  vidir_modern  \n",
       "3  vidir_modern  \n",
       "4  vidir_modern  "
      ]
     },
     "execution_count": 2,
     "metadata": {},
     "output_type": "execute_result"
    }
   ],
   "source": [
    "df= pd.read_csv('HAM10000_metadata',sep=',')\n",
    "df.head()"
   ]
  },
  {
   "cell_type": "code",
   "execution_count": 3,
   "id": "8a6de691",
   "metadata": {},
   "outputs": [
    {
     "data": {
      "text/plain": [
       "nv       6705\n",
       "mel      1113\n",
       "bkl      1099\n",
       "bcc       514\n",
       "akiec     327\n",
       "vasc      142\n",
       "df        115\n",
       "Name: dx, dtype: int64"
      ]
     },
     "execution_count": 3,
     "metadata": {},
     "output_type": "execute_result"
    }
   ],
   "source": [
    "df['dx'].value_counts()"
   ]
  },
  {
   "cell_type": "code",
   "execution_count": 4,
   "id": "5c91feec",
   "metadata": {},
   "outputs": [
    {
     "data": {
      "text/plain": [
       "(10015, 8)"
      ]
     },
     "execution_count": 4,
     "metadata": {},
     "output_type": "execute_result"
    }
   ],
   "source": [
    "df.shape"
   ]
  },
  {
   "cell_type": "code",
   "execution_count": 5,
   "id": "2d92e952",
   "metadata": {},
   "outputs": [],
   "source": [
    "dataset_default_path = 'HAM10000_images_part_1'\n",
    "train_set_path = 'dataset/train'\n",
    "test_set_path = 'dataset/test'\n",
    "min_samples = 200\n",
    "rand_seed = 0"
   ]
  },
  {
   "cell_type": "code",
   "execution_count": 6,
   "id": "f0e90e50",
   "metadata": {},
   "outputs": [],
   "source": [
    "df_nv = df[df.dx=='nv']\n",
    "df_mel = df[df.dx=='mel']\n",
    "df_bkl = df[df.dx=='bkl']\n",
    "df_bcc = df[df.dx=='bcc']\n"
   ]
  },
  {
   "cell_type": "code",
   "execution_count": 7,
   "id": "6aa09630",
   "metadata": {},
   "outputs": [],
   "source": [
    "df_nv=df_nv.head(1000)"
   ]
  },
  {
   "cell_type": "code",
   "execution_count": 8,
   "id": "f58d801b",
   "metadata": {},
   "outputs": [
    {
     "data": {
      "text/plain": [
       "(1000, 8)"
      ]
     },
     "execution_count": 8,
     "metadata": {},
     "output_type": "execute_result"
    }
   ],
   "source": [
    "df_nv.shape"
   ]
  },
  {
   "cell_type": "code",
   "execution_count": 9,
   "id": "3c9f4608",
   "metadata": {},
   "outputs": [],
   "source": [
    "data =df_mel.append(df_nv, ignore_index=True)"
   ]
  },
  {
   "cell_type": "code",
   "execution_count": 10,
   "id": "1139fe8e",
   "metadata": {},
   "outputs": [],
   "source": [
    "data1= data.append(df_bkl,ignore_index=True)\n",
    "\n",
    "df= data1.append(df_bcc,ignore_index=True)"
   ]
  },
  {
   "cell_type": "code",
   "execution_count": 11,
   "id": "66d81e96",
   "metadata": {},
   "outputs": [
    {
     "data": {
      "text/html": [
       "<div>\n",
       "<style scoped>\n",
       "    .dataframe tbody tr th:only-of-type {\n",
       "        vertical-align: middle;\n",
       "    }\n",
       "\n",
       "    .dataframe tbody tr th {\n",
       "        vertical-align: top;\n",
       "    }\n",
       "\n",
       "    .dataframe thead th {\n",
       "        text-align: right;\n",
       "    }\n",
       "</style>\n",
       "<table border=\"1\" class=\"dataframe\">\n",
       "  <thead>\n",
       "    <tr style=\"text-align: right;\">\n",
       "      <th></th>\n",
       "      <th>lesion_id</th>\n",
       "      <th>image_id</th>\n",
       "      <th>dx</th>\n",
       "      <th>dx_type</th>\n",
       "      <th>age</th>\n",
       "      <th>sex</th>\n",
       "      <th>localization</th>\n",
       "      <th>dataset</th>\n",
       "    </tr>\n",
       "  </thead>\n",
       "  <tbody>\n",
       "    <tr>\n",
       "      <th>0</th>\n",
       "      <td>HAM_0000871</td>\n",
       "      <td>ISIC_0025964</td>\n",
       "      <td>mel</td>\n",
       "      <td>histo</td>\n",
       "      <td>40.0</td>\n",
       "      <td>female</td>\n",
       "      <td>chest</td>\n",
       "      <td>vidir_modern</td>\n",
       "    </tr>\n",
       "    <tr>\n",
       "      <th>1</th>\n",
       "      <td>HAM_0000871</td>\n",
       "      <td>ISIC_0030623</td>\n",
       "      <td>mel</td>\n",
       "      <td>histo</td>\n",
       "      <td>40.0</td>\n",
       "      <td>female</td>\n",
       "      <td>chest</td>\n",
       "      <td>vidir_modern</td>\n",
       "    </tr>\n",
       "    <tr>\n",
       "      <th>2</th>\n",
       "      <td>HAM_0000040</td>\n",
       "      <td>ISIC_0027190</td>\n",
       "      <td>mel</td>\n",
       "      <td>histo</td>\n",
       "      <td>80.0</td>\n",
       "      <td>male</td>\n",
       "      <td>upper extremity</td>\n",
       "      <td>rosendahl</td>\n",
       "    </tr>\n",
       "    <tr>\n",
       "      <th>3</th>\n",
       "      <td>HAM_0005678</td>\n",
       "      <td>ISIC_0031023</td>\n",
       "      <td>mel</td>\n",
       "      <td>histo</td>\n",
       "      <td>60.0</td>\n",
       "      <td>male</td>\n",
       "      <td>chest</td>\n",
       "      <td>vidir_modern</td>\n",
       "    </tr>\n",
       "    <tr>\n",
       "      <th>4</th>\n",
       "      <td>HAM_0005678</td>\n",
       "      <td>ISIC_0028086</td>\n",
       "      <td>mel</td>\n",
       "      <td>histo</td>\n",
       "      <td>60.0</td>\n",
       "      <td>male</td>\n",
       "      <td>chest</td>\n",
       "      <td>vidir_modern</td>\n",
       "    </tr>\n",
       "  </tbody>\n",
       "</table>\n",
       "</div>"
      ],
      "text/plain": [
       "     lesion_id      image_id   dx dx_type   age     sex     localization  \\\n",
       "0  HAM_0000871  ISIC_0025964  mel   histo  40.0  female            chest   \n",
       "1  HAM_0000871  ISIC_0030623  mel   histo  40.0  female            chest   \n",
       "2  HAM_0000040  ISIC_0027190  mel   histo  80.0    male  upper extremity   \n",
       "3  HAM_0005678  ISIC_0031023  mel   histo  60.0    male            chest   \n",
       "4  HAM_0005678  ISIC_0028086  mel   histo  60.0    male            chest   \n",
       "\n",
       "        dataset  \n",
       "0  vidir_modern  \n",
       "1  vidir_modern  \n",
       "2     rosendahl  \n",
       "3  vidir_modern  \n",
       "4  vidir_modern  "
      ]
     },
     "execution_count": 11,
     "metadata": {},
     "output_type": "execute_result"
    }
   ],
   "source": [
    "df.head()"
   ]
  },
  {
   "cell_type": "code",
   "execution_count": 12,
   "id": "9c318c6a",
   "metadata": {},
   "outputs": [
    {
     "data": {
      "text/plain": [
       "(3726, 8)"
      ]
     },
     "execution_count": 12,
     "metadata": {},
     "output_type": "execute_result"
    }
   ],
   "source": [
    "df.shape"
   ]
  },
  {
   "cell_type": "code",
   "execution_count": 13,
   "id": "57f7f1dd",
   "metadata": {},
   "outputs": [
    {
     "data": {
      "text/plain": [
       "mel    1113\n",
       "bkl    1099\n",
       "nv     1000\n",
       "bcc     514\n",
       "Name: dx, dtype: int64"
      ]
     },
     "execution_count": 13,
     "metadata": {},
     "output_type": "execute_result"
    }
   ],
   "source": [
    "df.dx.value_counts()"
   ]
  },
  {
   "cell_type": "code",
   "execution_count": 16,
   "id": "df48b1c3",
   "metadata": {},
   "outputs": [
    {
     "data": {
      "text/plain": [
       "<AxesSubplot:xlabel='dx', ylabel='count'>"
      ]
     },
     "execution_count": 16,
     "metadata": {},
     "output_type": "execute_result"
    },
    {
     "data": {
      "image/png": "[encoded data removed]",
      "text/plain": [
       "<Figure size 432x288 with 1 Axes>"
      ]
     },
     "metadata": {
      "needs_background": "light"
     },
     "output_type": "display_data"
    }
   ],
   "source": [
    "sns.countplot(df['dx'])"
   ]
  },
  {
   "cell_type": "code",
   "execution_count": 17,
   "id": "1991f352",
   "metadata": {},
   "outputs": [],
   "source": [
    "df.to_csv('main_data.csv')"
   ]
  },
  {
   "cell_type": "code",
   "execution_count": 18,
   "id": "c043e875",
   "metadata": {},
   "outputs": [
    {
     "data": {
      "text/plain": [
       "(3726, 8)"
      ]
     },
     "execution_count": 18,
     "metadata": {},
     "output_type": "execute_result"
    }
   ],
   "source": [
    "df.shape"
   ]
  },
  {
   "cell_type": "code",
   "execution_count": 22,
   "id": "c814b0ff",
   "metadata": {},
   "outputs": [],
   "source": [
    "def build_train_test(num_samples=0, train_set_frac=0.75, dataset_path=dataset_default_path,\n",
    "                     train_path=train_set_path, test_path=test_set_path,\n",
    "                     overwrite=False):\n",
    "\n",
    "\n",
    "    if not os.path.isdir(dataset_path):\n",
    "        dataset_path = dataset_default_path\n",
    "    \n",
    "    abs_dataset_path = os.path.abspath(dataset_path)\n",
    "\n",
    "    if not os.path.isdir(train_path):\n",
    "        train_path = train_set_path\n",
    "    \n",
    "    abs_train_path = os.path.abspath(train_path)\n",
    "    if overwrite:\n",
    "        shutil.rmtree(abs_train_path)\n",
    "        os.mkdir(abs_train_path)\n",
    "\n",
    "    if not os.path.isdir(test_path):\n",
    "        test_path = test_set_path\n",
    "    \n",
    "    abs_test_path = os.path.abspath(test_path)\n",
    "    if overwrite:\n",
    "        shutil.rmtree(abs_test_path)\n",
    "        os.mkdir(abs_test_path)\n",
    "\n",
    "        \n",
    "    ham10000_df = pd.read_csv('main_data.csv',sep=',')\n",
    "    \n",
    "\n",
    "    for img_idx in range(ham10000_df['image_id'].count()):\n",
    "        ham10000_df.at[img_idx, 'image_id'] += '.jpg'\n",
    "\n",
    "    classes = list(set(ham10000_df.dx))\n",
    "    num_images = ham10000_df.image_id.count()\n",
    "\n",
    "    if 0 < num_samples < min_samples:\n",
    "        ham10000_df = ham10000_df.sample(n=min_samples, random_state=rand_seed)        \n",
    "    elif num_samples > num_images:\n",
    "        print('Warning')\n",
    "        \n",
    "    elif min_samples <= num_samples <= num_images:\n",
    "        ham10000_df = ham10000_df.sample(n=num_samples, random_state=rand_seed)\n",
    "\n",
    "\n",
    "    print(ham10000_df.dx.value_counts())\n",
    "\n",
    "    if train_set_frac < 0 or train_set_frac > 1.0:\n",
    "        test_set_frac = 0.75\n",
    "\n",
    "\n",
    "    train_set, test_set = train_test_split(ham10000_df, train_size=train_set_frac,\n",
    "                                           random_state=rand_seed,\n",
    "                                           stratify=ham10000_df.dx)\n",
    "\n",
    "\n",
    "    train_imgs = list(train_set['image_id'])\n",
    "    test_imgs = list(test_set['image_id'])\n",
    "\n",
    "    for img_name in train_imgs:\n",
    "        src_path = os.path.join(abs_dataset_path, img_name)\n",
    "        shutil.copy2(src_path, abs_train_path)\n",
    "\n",
    "    for img_name in test_imgs:\n",
    "        src_path = os.path.join(abs_dataset_path, img_name)\n",
    "        shutil.copy2(src_path, abs_test_path)\n",
    "  \n",
    "    return train_set, test_set, classes"
   ]
  },
  {
   "cell_type": "markdown",
   "id": "6b6d6514",
   "metadata": {},
   "source": [
    "# Labels description\n",
    "\n",
    "\n",
    "\n",
    "* basal cell carcinoma (bcc),\n",
    "* benign keratosis-like lesions (solar lentigines / seborrheic keratoses and lichen-planus like keratoses, bkl),\n",
    "* melanoma (mel),\n",
    "* melanocytic nevi (nv)\n"
   ]
  },
  {
   "cell_type": "code",
   "execution_count": 23,
   "id": "3fcdb129",
   "metadata": {},
   "outputs": [
    {
     "name": "stdout",
     "output_type": "stream",
     "text": [
      "Class labels: ['nv', 'bcc', 'mel', 'bkl']\n",
      "Number of images in the HAM10000 dataset: 3726\n",
      "Number of images in the reduced dataset: 3726\n",
      "Number of images for each class (dataset):\n",
      "mel    1113\n",
      "bkl    1099\n",
      "nv     1000\n",
      "bcc     514\n",
      "Name: dx, dtype: int64\n",
      "\n",
      "Number of images in the training set : 2794\n",
      "Number of images for each class (training set):\n",
      "mel    835\n",
      "bkl    824\n",
      "nv     750\n",
      "bcc    385\n",
      "Name: dx, dtype: int64\n",
      "\n",
      "Number of images in the test set : 932\n",
      "Number of images for each class (test set):\n",
      "mel    278\n",
      "bkl    275\n",
      "nv     250\n",
      "bcc    129\n",
      "Name: dx, dtype: int64\n"
     ]
    }
   ],
   "source": [
    "train_df, test_df, class_labels = build_train_test(num_samples=3726,\n",
    "                                                   overwrite=True)"
   ]
  },
  {
   "cell_type": "code",
   "execution_count": 24,
   "id": "e77b1238",
   "metadata": {},
   "outputs": [
    {
     "name": "stdout",
     "output_type": "stream",
     "text": [
      "Found 2794 validated image filenames belonging to 4 classes.\n",
      "Found 932 validated image filenames belonging to 4 classes.\n",
      "Found 932 validated image filenames belonging to 4 classes.\n"
     ]
    }
   ],
   "source": [
    "from keras.preprocessing.image import ImageDataGenerator\n",
    "\n",
    "\n",
    "dataaug_train = ImageDataGenerator(\n",
    "    rescale=1./255,\n",
    "    rotation_range=40,\n",
    "    width_shift_range=0.2,\n",
    "    height_shift_range=0.2,\n",
    "    shear_range=0.2,\n",
    "    zoom_range=0.2,\n",
    "    horizontal_flip=True,\n",
    "    vertical_flip=True)\n",
    "\n",
    "dataaug_val = ImageDataGenerator(rescale=1. / 255)\n",
    "\n",
    "dataaug_test = ImageDataGenerator(rescale=1. / 255)\n",
    "\n",
    "train_gen = dataaug_train.flow_from_dataframe(train_df,\n",
    "                               directory=train_set_path,\n",
    "                               x_col='image_id',y_col='dx',\n",
    "                               target_size=(256, 256),\n",
    "                               batch_size=16,color_mode='rgb',\n",
    "                               class_mode='categorical',\n",
    "                               shuffle=True)\n",
    "\n",
    "\n",
    "val_gen = dataaug_test.flow_from_dataframe(test_df,\n",
    "                             directory=test_set_path,\n",
    "                             x_col='image_id',y_col='dx',\n",
    "                             target_size=(256, 256),color_mode='rgb',\n",
    "                             batch_size=16,class_mode='categorical',\n",
    "                             shuffle=False)\n",
    "\n",
    "\n",
    "test_gen = dataaug_test.flow_from_dataframe(test_df,\n",
    "                             directory=test_set_path,\n",
    "                             x_col='image_id',y_col='dx',\n",
    "                             target_size=(256, 256),\n",
    "                             batch_size=16,color_mode='rgb',class_mode='categorical',\n",
    "                             shuffle=False)"
   ]
  },
  {
   "cell_type": "code",
   "execution_count": 25,
   "id": "5467e637",
   "metadata": {},
   "outputs": [],
   "source": [
    "import keras\n",
    "from keras.models import Sequential\n",
    "from keras.layers import Dense, Conv2D , MaxPooling2D , Flatten , Dropout , Activation\n",
    "from keras.optimizers import Adam\n",
    "import matplotlib.pyplot as plt\n",
    "from sklearn.metrics import classification_report\n",
    "from tensorflow.keras.callbacks import ReduceLROnPlateau\n",
    "from tensorflow.keras.layers import BatchNormalization\n",
    "from keras.callbacks import EarlyStopping,ModelCheckpoint,ReduceLROnPlateau\n"
   ]
  },
  {
   "cell_type": "code",
   "execution_count": 26,
   "id": "922456f4",
   "metadata": {},
   "outputs": [],
   "source": [
    "def plothistory(history):\n",
    "    plt.plot(history.history['accuracy'])\n",
    "    plt.plot(history.history['val_accuracy'])  \n",
    "    plt.title('Accuracy figure')\n",
    "    plt.ylabel('Accuracy')\n",
    "    plt.xlabel('Number of epochs')\n",
    "    plt.legend(['training', 'validation'])\n",
    "    plt.show()\n",
    "    \n",
    "    plt.plot(history.history['loss'])\n",
    "    plt.plot(history.history['val_loss'])\n",
    "    plt.title('Loss figure')\n",
    "    plt.ylabel('Loss')\n",
    "    plt.xlabel('Number of epochs')\n",
    "    plt.legend(['train', 'validation'])\n",
    "    plt.show()"
   ]
  },
  {
   "cell_type": "markdown",
   "id": "dfbe31b2",
   "metadata": {},
   "source": [
    "# Convolutional Neural network"
   ]
  },
  {
   "cell_type": "code",
   "execution_count": 27,
   "id": "01fd18b8",
   "metadata": {},
   "outputs": [],
   "source": [
    "def models(num_classes):\n",
    "\n",
    "    model = Sequential()\n",
    "\n",
    "    # C1 Convolutional Layer\n",
    "    model.add(Conv2D(filters=32, input_shape=(256, 256, 3), kernel_size=(3, 3),\n",
    "                     strides=(4, 4), padding='valid'))\n",
    "    model.add(Activation('relu'))\n",
    "    # Pooling\n",
    "    model.add(MaxPooling2D(pool_size=(2, 2), strides=(2, 2), padding='valid'))\n",
    "    # Batch Normalisation before passing it to the next layer\n",
    "    model.add(BatchNormalization())\n",
    "\n",
    "    # C2 Convolutional Layer\n",
    "    model.add(Conv2D(filters=64, kernel_size=(3, 3), strides=(1, 1), padding='valid'))\n",
    "    model.add(Activation('relu'))\n",
    "    # Pooling\n",
    "    model.add(MaxPooling2D(pool_size=(2, 2), strides=(2, 2), padding='valid'))\n",
    "    # Batch Normalization\n",
    "    model.add(BatchNormalization())\n",
    "\n",
    "    # C3 Convolutional Layer\n",
    "    model.add(Conv2D(filters=128, kernel_size=(3, 3), strides=(1, 1), padding='valid'))\n",
    "    model.add(Activation('relu'))\n",
    "    # Batch Normalization\n",
    "    model.add(BatchNormalization())\n",
    "\n",
    "\n",
    "    # Flatten\n",
    "    model.add(Flatten())\n",
    "\n",
    "    model.add(Dense(512, input_shape=(256 * 256 * 3,)))\n",
    "    model.add(Activation('relu'))\n",
    "    # Dropout\n",
    "    model.add(Dropout(0.3))\n",
    "    # Batch Normalisation\n",
    "    model.add(BatchNormalization())\n",
    "\n",
    "\n",
    "    # Output Layer\n",
    "    model.add(Dense(num_classes))\n",
    "    model.add(Activation('softmax'))\n",
    "\n",
    "    # Compile\n",
    "    model.compile(loss='categorical_crossentropy', optimizer='adam', metrics=['accuracy'])\n",
    "\n",
    "    return model"
   ]
  },
  {
   "cell_type": "code",
   "execution_count": 28,
   "id": "c9025efb",
   "metadata": {},
   "outputs": [
    {
     "name": "stdout",
     "output_type": "stream",
     "text": [
      "Model: \"sequential\"\n",
      "_________________________________________________________________\n",
      " Layer (type)                Output Shape              Param #   \n",
      "=================================================================\n",
      " conv2d (Conv2D)             (None, 64, 64, 32)        896       \n",
      "                                                                 \n",
      " activation (Activation)     (None, 64, 64, 32)        0         \n",
      "                                                                 \n",
      " max_pooling2d (MaxPooling2D  (None, 32, 32, 32)       0         \n",
      " )                                                               \n",
      "                                                                 \n",
      " batch_normalization (BatchN  (None, 32, 32, 32)       128       \n",
      " ormalization)                                                   \n",
      "                                                                 \n",
      " conv2d_1 (Conv2D)           (None, 30, 30, 64)        18496     \n",
      "                                                                 \n",
      " activation_1 (Activation)   (None, 30, 30, 64)        0         \n",
      "                                                                 \n",
      " max_pooling2d_1 (MaxPooling  (None, 15, 15, 64)       0         \n",
      " 2D)                                                             \n",
      "                                                                 \n",
      " batch_normalization_1 (Batc  (None, 15, 15, 64)       256       \n",
      " hNormalization)                                                 \n",
      "                                                                 \n",
      " conv2d_2 (Conv2D)           (None, 13, 13, 128)       73856     \n",
      "                                                                 \n",
      " activation_2 (Activation)   (None, 13, 13, 128)       0         \n",
      "                                                                 \n",
      " batch_normalization_2 (Batc  (None, 13, 13, 128)      512       \n",
      " hNormalization)                                                 \n",
      "                                                                 \n",
      " flatten (Flatten)           (None, 21632)             0         \n",
      "                                                                 \n",
      " dense (Dense)               (None, 512)               11076096  \n",
      "                                                                 \n",
      " activation_3 (Activation)   (None, 512)               0         \n",
      "                                                                 \n",
      " dropout (Dropout)           (None, 512)               0         \n",
      "                                                                 \n",
      " batch_normalization_3 (Batc  (None, 512)              2048      \n",
      " hNormalization)                                                 \n",
      "                                                                 \n",
      " dense_1 (Dense)             (None, 4)                 2052      \n",
      "                                                                 \n",
      " activation_4 (Activation)   (None, 4)                 0         \n",
      "                                                                 \n",
      "=================================================================\n",
      "Total params: 11,174,340\n",
      "Trainable params: 11,172,868\n",
      "Non-trainable params: 1,472\n",
      "_________________________________________________________________\n"
     ]
    }
   ],
   "source": [
    "model= models(4) \n",
    "model.summary()"
   ]
  },
  {
   "cell_type": "code",
   "execution_count": 29,
   "id": "76dd5c5f",
   "metadata": {},
   "outputs": [],
   "source": [
    "STEP_SIZE_TRAIN=train_gen.n//train_gen.batch_size\n",
    "STEP_SIZE_VAL  =val_gen.n//val_gen.batch_size\n",
    "STEP_SIZE_TEST =test_gen.n//test_gen.batch_size\n",
    "num_epochs = 30"
   ]
  },
  {
   "cell_type": "code",
   "execution_count": 30,
   "id": "7b5c7ce5",
   "metadata": {},
   "outputs": [
    {
     "name": "stdout",
     "output_type": "stream",
     "text": [
      "Epoch 1/30\n",
      "174/174 [==============================] - 88s 501ms/step - loss: 1.2150 - accuracy: 0.5756 - val_loss: 1.6077 - val_accuracy: 0.3815\n",
      "Epoch 2/30\n",
      "174/174 [==============================] - 72s 416ms/step - loss: 0.9181 - accuracy: 0.6328 - val_loss: 1.5181 - val_accuracy: 0.3427\n",
      "Epoch 3/30\n",
      "174/174 [==============================] - 65s 373ms/step - loss: 0.8194 - accuracy: 0.6667 - val_loss: 0.6840 - val_accuracy: 0.7263\n",
      "Epoch 4/30\n",
      "174/174 [==============================] - 63s 364ms/step - loss: 0.8264 - accuracy: 0.6695 - val_loss: 1.4852 - val_accuracy: 0.5043\n",
      "Epoch 5/30\n",
      "174/174 [==============================] - 62s 354ms/step - loss: 0.7549 - accuracy: 0.6897 - val_loss: 0.9538 - val_accuracy: 0.6196\n",
      "Epoch 6/30\n",
      "174/174 [==============================] - 63s 364ms/step - loss: 0.7460 - accuracy: 0.6904 - val_loss: 0.6127 - val_accuracy: 0.7575\n",
      "Epoch 7/30\n",
      "174/174 [==============================] - 61s 349ms/step - loss: 0.7013 - accuracy: 0.7163 - val_loss: 1.3819 - val_accuracy: 0.5539\n",
      "Epoch 8/30\n",
      "174/174 [==============================] - 67s 382ms/step - loss: 0.6954 - accuracy: 0.7005 - val_loss: 1.8767 - val_accuracy: 0.4925\n",
      "Epoch 9/30\n",
      "174/174 [==============================] - 65s 375ms/step - loss: 0.7178 - accuracy: 0.7041 - val_loss: 0.6321 - val_accuracy: 0.7511\n",
      "Epoch 10/30\n",
      "174/174 [==============================] - 65s 376ms/step - loss: 0.6684 - accuracy: 0.7185 - val_loss: 0.7250 - val_accuracy: 0.6541\n",
      "Epoch 11/30\n",
      "174/174 [==============================] - 58s 331ms/step - loss: 0.6727 - accuracy: 0.7192 - val_loss: 0.8554 - val_accuracy: 0.6207\n",
      "Epoch 12/30\n",
      "174/174 [==============================] - 61s 350ms/step - loss: 0.6810 - accuracy: 0.7178 - val_loss: 0.9295 - val_accuracy: 0.6013\n",
      "Epoch 13/30\n",
      "174/174 [==============================] - 63s 363ms/step - loss: 0.6731 - accuracy: 0.7149 - val_loss: 0.6274 - val_accuracy: 0.7446\n",
      "Epoch 14/30\n",
      "174/174 [==============================] - 63s 365ms/step - loss: 0.6720 - accuracy: 0.7228 - val_loss: 0.6428 - val_accuracy: 0.7349\n",
      "Epoch 15/30\n",
      "174/174 [==============================] - 63s 363ms/step - loss: 0.6536 - accuracy: 0.7379 - val_loss: 0.5390 - val_accuracy: 0.7931\n",
      "Epoch 16/30\n",
      "174/174 [==============================] - 63s 364ms/step - loss: 0.6322 - accuracy: 0.7279 - val_loss: 1.0434 - val_accuracy: 0.5603\n",
      "Epoch 17/30\n",
      "174/174 [==============================] - 67s 383ms/step - loss: 0.6528 - accuracy: 0.7261 - val_loss: 0.7723 - val_accuracy: 0.6735\n",
      "Epoch 18/30\n",
      "174/174 [==============================] - 67s 383ms/step - loss: 0.6506 - accuracy: 0.7430 - val_loss: 0.6026 - val_accuracy: 0.7425\n",
      "Epoch 19/30\n",
      "174/174 [==============================] - 67s 383ms/step - loss: 0.6584 - accuracy: 0.7289 - val_loss: 0.7629 - val_accuracy: 0.6487\n",
      "Epoch 20/30\n",
      "174/174 [==============================] - 63s 364ms/step - loss: 0.6285 - accuracy: 0.7444 - val_loss: 0.6254 - val_accuracy: 0.7511\n",
      "Epoch 21/30\n",
      "174/174 [==============================] - 62s 357ms/step - loss: 0.6454 - accuracy: 0.7318 - val_loss: 0.6995 - val_accuracy: 0.7209\n",
      "Epoch 22/30\n",
      "174/174 [==============================] - 66s 380ms/step - loss: 0.6372 - accuracy: 0.7469 - val_loss: 0.6254 - val_accuracy: 0.7241\n",
      "Epoch 23/30\n",
      "174/174 [==============================] - 68s 389ms/step - loss: 0.6424 - accuracy: 0.7271 - val_loss: 0.5712 - val_accuracy: 0.7619\n",
      "Epoch 24/30\n",
      "174/174 [==============================] - 66s 379ms/step - loss: 0.6325 - accuracy: 0.7300 - val_loss: 0.7427 - val_accuracy: 0.7188\n",
      "Epoch 25/30\n",
      "174/174 [==============================] - 65s 375ms/step - loss: 0.6009 - accuracy: 0.7473 - val_loss: 1.2394 - val_accuracy: 0.4784\n",
      "Epoch 26/30\n",
      "174/174 [==============================] - 69s 399ms/step - loss: 0.6454 - accuracy: 0.7336 - val_loss: 0.5294 - val_accuracy: 0.7856\n",
      "Epoch 27/30\n",
      "174/174 [==============================] - 67s 385ms/step - loss: 0.6377 - accuracy: 0.7307 - val_loss: 0.5990 - val_accuracy: 0.7640\n",
      "Epoch 28/30\n",
      "174/174 [==============================] - 66s 381ms/step - loss: 0.6035 - accuracy: 0.7448 - val_loss: 0.5366 - val_accuracy: 0.7899\n",
      "Epoch 29/30\n",
      "174/174 [==============================] - 66s 378ms/step - loss: 0.6179 - accuracy: 0.7374 - val_loss: 0.6073 - val_accuracy: 0.7554\n",
      "Epoch 30/30\n",
      "174/174 [==============================] - 63s 363ms/step - loss: 0.6294 - accuracy: 0.7282 - val_loss: 0.6225 - val_accuracy: 0.7360\n"
     ]
    }
   ],
   "source": [
    "history = model.fit(train_gen,steps_per_epoch=STEP_SIZE_TRAIN,epochs=num_epochs,\n",
    "                    validation_data=val_gen, validation_steps=STEP_SIZE_VAL)"
   ]
  },
  {
   "cell_type": "code",
   "execution_count": 32,
   "id": "f1c88eda",
   "metadata": {},
   "outputs": [
    {
     "data": {
      "image/png": "[encoded data removed]",
      "text/plain": [
       "<Figure size 432x288 with 1 Axes>"
      ]
     },
     "metadata": {
      "needs_background": "light"
     },
     "output_type": "display_data"
    },
    {
     "data": {
      "image/png": "[encoded data removed]",
      "text/plain": [
       "<Figure size 432x288 with 1 Axes>"
      ]
     },
     "metadata": {
      "needs_background": "light"
     },
     "output_type": "display_data"
    }
   ],
   "source": [
    "plothistory(history)"
   ]
  },
  {
   "cell_type": "code",
   "execution_count": 33,
   "id": "834667cb",
   "metadata": {},
   "outputs": [],
   "source": [
    "# saving the model\n",
    "from tensorflow.keras import models, layers\n",
    "\n",
    "models.save_model(model, 'model_cnn.h5')"
   ]
  },
  {
   "cell_type": "code",
   "execution_count": 34,
   "id": "eda368bc",
   "metadata": {},
   "outputs": [
    {
     "name": "stdout",
     "output_type": "stream",
     "text": [
      "58/58 [==============================] - 7s 116ms/step - loss: 0.6225 - accuracy: 0.7360\n",
      "[0.6225123405456543, 0.735991358757019]\n"
     ]
    }
   ],
   "source": [
    "# evaluating the model on the test datatset\n",
    "score = model.evaluate(test_gen, steps=STEP_SIZE_TEST) # with test dataset\n",
    "print(score)"
   ]
  },
  {
   "cell_type": "code",
   "execution_count": 35,
   "id": "0501881c",
   "metadata": {},
   "outputs": [
    {
     "name": "stdout",
     "output_type": "stream",
     "text": [
      "59/59 [==============================] - 7s 120ms/step\n",
      "[[ 60  39  28   2]\n",
      " [ 16 136 110  13]\n",
      " [  5  15 247  11]\n",
      " [  0   7   1 242]]\n"
     ]
    }
   ],
   "source": [
    "# model evaluation \n",
    "\n",
    "predY=model.predict(test_gen) \n",
    "y_pred = np.argmax(predY,axis=1)\n",
    "y_actual = test_gen.classes\n",
    "\n",
    "# printing the confusion matrix\n",
    "cm = confusion_matrix(y_actual, y_pred)\n",
    "print(cm)"
   ]
  },
  {
   "cell_type": "code",
   "execution_count": 36,
   "id": "4c4138fc",
   "metadata": {},
   "outputs": [
    {
     "name": "stdout",
     "output_type": "stream",
     "text": [
      "              precision    recall  f1-score   support\n",
      "\n",
      "           0       0.74      0.47      0.57       129\n",
      "           1       0.69      0.49      0.58       275\n",
      "           2       0.64      0.89      0.74       278\n",
      "           3       0.90      0.97      0.93       250\n",
      "\n",
      "    accuracy                           0.73       932\n",
      "   macro avg       0.74      0.70      0.71       932\n",
      "weighted avg       0.74      0.73      0.72       932\n",
      "\n"
     ]
    }
   ],
   "source": [
    "# printing the classificaion report\n",
    "print(classification_report(y_actual, y_pred))"
   ]
  },
  {
   "cell_type": "code",
   "execution_count": 37,
   "id": "cedabd32",
   "metadata": {},
   "outputs": [
    {
     "name": "stdout",
     "output_type": "stream",
     "text": [
      "The accuracy of the CNN model is 0.735\n",
      "The f1 score of the CNN model is 0.722\n",
      "The recall of the CNN model is 0.735\n",
      "The precision of the CNN model is 0.739\n"
     ]
    }
   ],
   "source": [
    "from sklearn.metrics import precision_score, f1_score,accuracy_score,recall_score,classification_report\n",
    "\n",
    "\n",
    "accuracy = accuracy_score(test_gen.classes, y_pred)\n",
    "print(\"The accuracy of the CNN model is {:.3f}\".format(accuracy))\n",
    "\n",
    "f1 = f1_score(test_gen.classes, y_pred, average='weighted')\n",
    "print(\"The f1 score of the CNN model is {:.3f}\".format(f1))\n",
    "\n",
    "recall = recall_score(test_gen.classes, y_pred, average='weighted')\n",
    "print(\"The recall of the CNN model is {:.3f}\".format(recall))\n",
    "\n",
    "precision = precision_score(test_gen.classes, y_pred, average='weighted')\n",
    "print(\"The precision of the CNN model is {:.3f}\".format(precision))\n",
    "\n"
   ]
  },
  {
   "cell_type": "markdown",
   "id": "e2d95a7d",
   "metadata": {},
   "source": [
    "# ResNet50 v2"
   ]
  },
  {
   "cell_type": "code",
   "execution_count": 40,
   "id": "c9808604",
   "metadata": {},
   "outputs": [
    {
     "name": "stdout",
     "output_type": "stream",
     "text": [
      "Model: \"model_1\"\n",
      "__________________________________________________________________________________________________\n",
      " Layer (type)                   Output Shape         Param #     Connected to                     \n",
      "==================================================================================================\n",
      " input_2 (InputLayer)           [(None, 256, 256, 3  0           []                               \n",
      "                                )]                                                                \n",
      "                                                                                                  \n",
      " conv1_pad (ZeroPadding2D)      (None, 262, 262, 3)  0           ['input_2[0][0]']                \n",
      "                                                                                                  \n",
      " conv1_conv (Conv2D)            (None, 128, 128, 64  9472        ['conv1_pad[0][0]']              \n",
      "                                )                                                                 \n",
      "                                                                                                  \n",
      " pool1_pad (ZeroPadding2D)      (None, 130, 130, 64  0           ['conv1_conv[0][0]']             \n",
      "                                )                                                                 \n",
      "                                                                                                  \n",
      " pool1_pool (MaxPooling2D)      (None, 64, 64, 64)   0           ['pool1_pad[0][0]']              \n",
      "                                                                                                  \n",
      " conv2_block1_preact_bn (BatchN  (None, 64, 64, 64)  256         ['pool1_pool[0][0]']             \n",
      " ormalization)                                                                                    \n",
      "                                                                                                  \n",
      " conv2_block1_preact_relu (Acti  (None, 64, 64, 64)  0           ['conv2_block1_preact_bn[0][0]'] \n",
      " vation)                                                                                          \n",
      "                                                                                                  \n",
      " conv2_block1_1_conv (Conv2D)   (None, 64, 64, 64)   4096        ['conv2_block1_preact_relu[0][0]'\n",
      "                                                                 ]                                \n",
      "                                                                                                  \n",
      " conv2_block1_1_bn (BatchNormal  (None, 64, 64, 64)  256         ['conv2_block1_1_conv[0][0]']    \n",
      " ization)                                                                                         \n",
      "                                                                                                  \n",
      " conv2_block1_1_relu (Activatio  (None, 64, 64, 64)  0           ['conv2_block1_1_bn[0][0]']      \n",
      " n)                                                                                               \n",
      "                                                                                                  \n",
      " conv2_block1_2_pad (ZeroPaddin  (None, 66, 66, 64)  0           ['conv2_block1_1_relu[0][0]']    \n",
      " g2D)                                                                                             \n",
      "                                                                                                  \n",
      " conv2_block1_2_conv (Conv2D)   (None, 64, 64, 64)   36864       ['conv2_block1_2_pad[0][0]']     \n",
      "                                                                                                  \n",
      " conv2_block1_2_bn (BatchNormal  (None, 64, 64, 64)  256         ['conv2_block1_2_conv[0][0]']    \n",
      " ization)                                                                                         \n",
      "                                                                                                  \n",
      " conv2_block1_2_relu (Activatio  (None, 64, 64, 64)  0           ['conv2_block1_2_bn[0][0]']      \n",
      " n)                                                                                               \n",
      "                                                                                                  \n",
      " conv2_block1_0_conv (Conv2D)   (None, 64, 64, 256)  16640       ['conv2_block1_preact_relu[0][0]'\n",
      "                                                                 ]                                \n",
      "                                                                                                  \n",
      " conv2_block1_3_conv (Conv2D)   (None, 64, 64, 256)  16640       ['conv2_block1_2_relu[0][0]']    \n",
      "                                                                                                  \n",
      " conv2_block1_out (Add)         (None, 64, 64, 256)  0           ['conv2_block1_0_conv[0][0]',    \n",
      "                                                                  'conv2_block1_3_conv[0][0]']    \n",
      "                                                                                                  \n",
      " conv2_block2_preact_bn (BatchN  (None, 64, 64, 256)  1024       ['conv2_block1_out[0][0]']       \n",
      " ormalization)                                                                                    \n",
      "                                                                                                  \n",
      " conv2_block2_preact_relu (Acti  (None, 64, 64, 256)  0          ['conv2_block2_preact_bn[0][0]'] \n",
      " vation)                                                                                          \n",
      "                                                                                                  \n",
      " conv2_block2_1_conv (Conv2D)   (None, 64, 64, 64)   16384       ['conv2_block2_preact_relu[0][0]'\n",
      "                                                                 ]                                \n",
      "                                                                                                  \n",
      " conv2_block2_1_bn (BatchNormal  (None, 64, 64, 64)  256         ['conv2_block2_1_conv[0][0]']    \n",
      " ization)                                                                                         \n",
      "                                                                                                  \n",
      " conv2_block2_1_relu (Activatio  (None, 64, 64, 64)  0           ['conv2_block2_1_bn[0][0]']      \n",
      " n)                                                                                               \n",
      "                                                                                                  \n",
      " conv2_block2_2_pad (ZeroPaddin  (None, 66, 66, 64)  0           ['conv2_block2_1_relu[0][0]']    \n",
      " g2D)                                                                                             \n",
      "                                                                                                  \n",
      " conv2_block2_2_conv (Conv2D)   (None, 64, 64, 64)   36864       ['conv2_block2_2_pad[0][0]']     \n",
      "                                                                                                  \n",
      " conv2_block2_2_bn (BatchNormal  (None, 64, 64, 64)  256         ['conv2_block2_2_conv[0][0]']    \n",
      " ization)                                                                                         \n",
      "                                                                                                  \n",
      " conv2_block2_2_relu (Activatio  (None, 64, 64, 64)  0           ['conv2_block2_2_bn[0][0]']      \n",
      " n)                                                                                               \n",
      "                                                                                                  \n",
      " conv2_block2_3_conv (Conv2D)   (None, 64, 64, 256)  16640       ['conv2_block2_2_relu[0][0]']    \n",
      "                                                                                                  \n",
      " conv2_block2_out (Add)         (None, 64, 64, 256)  0           ['conv2_block1_out[0][0]',       \n",
      "                                                                  'conv2_block2_3_conv[0][0]']    \n",
      "                                                                                                  \n",
      " conv2_block3_preact_bn (BatchN  (None, 64, 64, 256)  1024       ['conv2_block2_out[0][0]']       \n",
      " ormalization)                                                                                    \n"
     ]
    },
    {
     "name": "stdout",
     "output_type": "stream",
     "text": [
      "                                                                                                  \n",
      " conv2_block3_preact_relu (Acti  (None, 64, 64, 256)  0          ['conv2_block3_preact_bn[0][0]'] \n",
      " vation)                                                                                          \n",
      "                                                                                                  \n",
      " conv2_block3_1_conv (Conv2D)   (None, 64, 64, 64)   16384       ['conv2_block3_preact_relu[0][0]'\n",
      "                                                                 ]                                \n",
      "                                                                                                  \n",
      " conv2_block3_1_bn (BatchNormal  (None, 64, 64, 64)  256         ['conv2_block3_1_conv[0][0]']    \n",
      " ization)                                                                                         \n",
      "                                                                                                  \n",
      " conv2_block3_1_relu (Activatio  (None, 64, 64, 64)  0           ['conv2_block3_1_bn[0][0]']      \n",
      " n)                                                                                               \n",
      "                                                                                                  \n",
      " conv2_block3_2_pad (ZeroPaddin  (None, 66, 66, 64)  0           ['conv2_block3_1_relu[0][0]']    \n",
      " g2D)                                                                                             \n",
      "                                                                                                  \n",
      " conv2_block3_2_conv (Conv2D)   (None, 32, 32, 64)   36864       ['conv2_block3_2_pad[0][0]']     \n",
      "                                                                                                  \n",
      " conv2_block3_2_bn (BatchNormal  (None, 32, 32, 64)  256         ['conv2_block3_2_conv[0][0]']    \n",
      " ization)                                                                                         \n",
      "                                                                                                  \n",
      " conv2_block3_2_relu (Activatio  (None, 32, 32, 64)  0           ['conv2_block3_2_bn[0][0]']      \n",
      " n)                                                                                               \n",
      "                                                                                                  \n",
      " max_pooling2d_5 (MaxPooling2D)  (None, 32, 32, 256)  0          ['conv2_block2_out[0][0]']       \n",
      "                                                                                                  \n",
      " conv2_block3_3_conv (Conv2D)   (None, 32, 32, 256)  16640       ['conv2_block3_2_relu[0][0]']    \n",
      "                                                                                                  \n",
      " conv2_block3_out (Add)         (None, 32, 32, 256)  0           ['max_pooling2d_5[0][0]',        \n",
      "                                                                  'conv2_block3_3_conv[0][0]']    \n",
      "                                                                                                  \n",
      " conv3_block1_preact_bn (BatchN  (None, 32, 32, 256)  1024       ['conv2_block3_out[0][0]']       \n",
      " ormalization)                                                                                    \n",
      "                                                                                                  \n",
      " conv3_block1_preact_relu (Acti  (None, 32, 32, 256)  0          ['conv3_block1_preact_bn[0][0]'] \n",
      " vation)                                                                                          \n",
      "                                                                                                  \n",
      " conv3_block1_1_conv (Conv2D)   (None, 32, 32, 128)  32768       ['conv3_block1_preact_relu[0][0]'\n",
      "                                                                 ]                                \n",
      "                                                                                                  \n",
      " conv3_block1_1_bn (BatchNormal  (None, 32, 32, 128)  512        ['conv3_block1_1_conv[0][0]']    \n",
      " ization)                                                                                         \n",
      "                                                                                                  \n",
      " conv3_block1_1_relu (Activatio  (None, 32, 32, 128)  0          ['conv3_block1_1_bn[0][0]']      \n",
      " n)                                                                                               \n",
      "                                                                                                  \n",
      " conv3_block1_2_pad (ZeroPaddin  (None, 34, 34, 128)  0          ['conv3_block1_1_relu[0][0]']    \n",
      " g2D)                                                                                             \n",
      "                                                                                                  \n",
      " conv3_block1_2_conv (Conv2D)   (None, 32, 32, 128)  147456      ['conv3_block1_2_pad[0][0]']     \n",
      "                                                                                                  \n",
      " conv3_block1_2_bn (BatchNormal  (None, 32, 32, 128)  512        ['conv3_block1_2_conv[0][0]']    \n",
      " ization)                                                                                         \n",
      "                                                                                                  \n",
      " conv3_block1_2_relu (Activatio  (None, 32, 32, 128)  0          ['conv3_block1_2_bn[0][0]']      \n",
      " n)                                                                                               \n",
      "                                                                                                  \n",
      " conv3_block1_0_conv (Conv2D)   (None, 32, 32, 512)  131584      ['conv3_block1_preact_relu[0][0]'\n",
      "                                                                 ]                                \n",
      "                                                                                                  \n",
      " conv3_block1_3_conv (Conv2D)   (None, 32, 32, 512)  66048       ['conv3_block1_2_relu[0][0]']    \n",
      "                                                                                                  \n",
      " conv3_block1_out (Add)         (None, 32, 32, 512)  0           ['conv3_block1_0_conv[0][0]',    \n",
      "                                                                  'conv3_block1_3_conv[0][0]']    \n",
      "                                                                                                  \n",
      " conv3_block2_preact_bn (BatchN  (None, 32, 32, 512)  2048       ['conv3_block1_out[0][0]']       \n",
      " ormalization)                                                                                    \n",
      "                                                                                                  \n",
      " conv3_block2_preact_relu (Acti  (None, 32, 32, 512)  0          ['conv3_block2_preact_bn[0][0]'] \n",
      " vation)                                                                                          \n",
      "                                                                                                  \n",
      " conv3_block2_1_conv (Conv2D)   (None, 32, 32, 128)  65536       ['conv3_block2_preact_relu[0][0]'\n",
      "                                                                 ]                                \n",
      "                                                                                                  \n",
      " conv3_block2_1_bn (BatchNormal  (None, 32, 32, 128)  512        ['conv3_block2_1_conv[0][0]']    \n",
      " ization)                                                                                         \n",
      "                                                                                                  \n",
      " conv3_block2_1_relu (Activatio  (None, 32, 32, 128)  0          ['conv3_block2_1_bn[0][0]']      \n",
      " n)                                                                                               \n",
      "                                                                                                  \n",
      " conv3_block2_2_pad (ZeroPaddin  (None, 34, 34, 128)  0          ['conv3_block2_1_relu[0][0]']    \n",
      " g2D)                                                                                             \n",
      "                                                                                                  \n"
     ]
    },
    {
     "name": "stdout",
     "output_type": "stream",
     "text": [
      " conv3_block2_2_conv (Conv2D)   (None, 32, 32, 128)  147456      ['conv3_block2_2_pad[0][0]']     \n",
      "                                                                                                  \n",
      " conv3_block2_2_bn (BatchNormal  (None, 32, 32, 128)  512        ['conv3_block2_2_conv[0][0]']    \n",
      " ization)                                                                                         \n",
      "                                                                                                  \n",
      " conv3_block2_2_relu (Activatio  (None, 32, 32, 128)  0          ['conv3_block2_2_bn[0][0]']      \n",
      " n)                                                                                               \n",
      "                                                                                                  \n",
      " conv3_block2_3_conv (Conv2D)   (None, 32, 32, 512)  66048       ['conv3_block2_2_relu[0][0]']    \n",
      "                                                                                                  \n",
      " conv3_block2_out (Add)         (None, 32, 32, 512)  0           ['conv3_block1_out[0][0]',       \n",
      "                                                                  'conv3_block2_3_conv[0][0]']    \n",
      "                                                                                                  \n",
      " conv3_block3_preact_bn (BatchN  (None, 32, 32, 512)  2048       ['conv3_block2_out[0][0]']       \n",
      " ormalization)                                                                                    \n",
      "                                                                                                  \n",
      " conv3_block3_preact_relu (Acti  (None, 32, 32, 512)  0          ['conv3_block3_preact_bn[0][0]'] \n",
      " vation)                                                                                          \n",
      "                                                                                                  \n",
      " conv3_block3_1_conv (Conv2D)   (None, 32, 32, 128)  65536       ['conv3_block3_preact_relu[0][0]'\n",
      "                                                                 ]                                \n",
      "                                                                                                  \n",
      " conv3_block3_1_bn (BatchNormal  (None, 32, 32, 128)  512        ['conv3_block3_1_conv[0][0]']    \n",
      " ization)                                                                                         \n",
      "                                                                                                  \n",
      " conv3_block3_1_relu (Activatio  (None, 32, 32, 128)  0          ['conv3_block3_1_bn[0][0]']      \n",
      " n)                                                                                               \n",
      "                                                                                                  \n",
      " conv3_block3_2_pad (ZeroPaddin  (None, 34, 34, 128)  0          ['conv3_block3_1_relu[0][0]']    \n",
      " g2D)                                                                                             \n",
      "                                                                                                  \n",
      " conv3_block3_2_conv (Conv2D)   (None, 32, 32, 128)  147456      ['conv3_block3_2_pad[0][0]']     \n",
      "                                                                                                  \n",
      " conv3_block3_2_bn (BatchNormal  (None, 32, 32, 128)  512        ['conv3_block3_2_conv[0][0]']    \n",
      " ization)                                                                                         \n",
      "                                                                                                  \n",
      " conv3_block3_2_relu (Activatio  (None, 32, 32, 128)  0          ['conv3_block3_2_bn[0][0]']      \n",
      " n)                                                                                               \n",
      "                                                                                                  \n",
      " conv3_block3_3_conv (Conv2D)   (None, 32, 32, 512)  66048       ['conv3_block3_2_relu[0][0]']    \n",
      "                                                                                                  \n",
      " conv3_block3_out (Add)         (None, 32, 32, 512)  0           ['conv3_block2_out[0][0]',       \n",
      "                                                                  'conv3_block3_3_conv[0][0]']    \n",
      "                                                                                                  \n",
      " conv3_block4_preact_bn (BatchN  (None, 32, 32, 512)  2048       ['conv3_block3_out[0][0]']       \n",
      " ormalization)                                                                                    \n",
      "                                                                                                  \n",
      " conv3_block4_preact_relu (Acti  (None, 32, 32, 512)  0          ['conv3_block4_preact_bn[0][0]'] \n",
      " vation)                                                                                          \n",
      "                                                                                                  \n",
      " conv3_block4_1_conv (Conv2D)   (None, 32, 32, 128)  65536       ['conv3_block4_preact_relu[0][0]'\n",
      "                                                                 ]                                \n",
      "                                                                                                  \n",
      " conv3_block4_1_bn (BatchNormal  (None, 32, 32, 128)  512        ['conv3_block4_1_conv[0][0]']    \n",
      " ization)                                                                                         \n",
      "                                                                                                  \n",
      " conv3_block4_1_relu (Activatio  (None, 32, 32, 128)  0          ['conv3_block4_1_bn[0][0]']      \n",
      " n)                                                                                               \n",
      "                                                                                                  \n",
      " conv3_block4_2_pad (ZeroPaddin  (None, 34, 34, 128)  0          ['conv3_block4_1_relu[0][0]']    \n",
      " g2D)                                                                                             \n",
      "                                                                                                  \n",
      " conv3_block4_2_conv (Conv2D)   (None, 16, 16, 128)  147456      ['conv3_block4_2_pad[0][0]']     \n",
      "                                                                                                  \n",
      " conv3_block4_2_bn (BatchNormal  (None, 16, 16, 128)  512        ['conv3_block4_2_conv[0][0]']    \n",
      " ization)                                                                                         \n",
      "                                                                                                  \n",
      " conv3_block4_2_relu (Activatio  (None, 16, 16, 128)  0          ['conv3_block4_2_bn[0][0]']      \n",
      " n)                                                                                               \n",
      "                                                                                                  \n",
      " max_pooling2d_6 (MaxPooling2D)  (None, 16, 16, 512)  0          ['conv3_block3_out[0][0]']       \n",
      "                                                                                                  \n",
      " conv3_block4_3_conv (Conv2D)   (None, 16, 16, 512)  66048       ['conv3_block4_2_relu[0][0]']    \n",
      "                                                                                                  \n",
      " conv3_block4_out (Add)         (None, 16, 16, 512)  0           ['max_pooling2d_6[0][0]',        \n",
      "                                                                  'conv3_block4_3_conv[0][0]']    \n",
      "                                                                                                  \n",
      " conv4_block1_preact_bn (BatchN  (None, 16, 16, 512)  2048       ['conv3_block4_out[0][0]']       \n",
      " ormalization)                                                                                    \n",
      "                                                                                                  \n",
      " conv4_block1_preact_relu (Acti  (None, 16, 16, 512)  0          ['conv4_block1_preact_bn[0][0]'] \n",
      " vation)                                                                                          \n",
      "                                                                                                  \n"
     ]
    },
    {
     "name": "stdout",
     "output_type": "stream",
     "text": [
      " conv4_block1_1_conv (Conv2D)   (None, 16, 16, 256)  131072      ['conv4_block1_preact_relu[0][0]'\n",
      "                                                                 ]                                \n",
      "                                                                                                  \n",
      " conv4_block1_1_bn (BatchNormal  (None, 16, 16, 256)  1024       ['conv4_block1_1_conv[0][0]']    \n",
      " ization)                                                                                         \n",
      "                                                                                                  \n",
      " conv4_block1_1_relu (Activatio  (None, 16, 16, 256)  0          ['conv4_block1_1_bn[0][0]']      \n",
      " n)                                                                                               \n",
      "                                                                                                  \n",
      " conv4_block1_2_pad (ZeroPaddin  (None, 18, 18, 256)  0          ['conv4_block1_1_relu[0][0]']    \n",
      " g2D)                                                                                             \n",
      "                                                                                                  \n",
      " conv4_block1_2_conv (Conv2D)   (None, 16, 16, 256)  589824      ['conv4_block1_2_pad[0][0]']     \n",
      "                                                                                                  \n",
      " conv4_block1_2_bn (BatchNormal  (None, 16, 16, 256)  1024       ['conv4_block1_2_conv[0][0]']    \n",
      " ization)                                                                                         \n",
      "                                                                                                  \n",
      " conv4_block1_2_relu (Activatio  (None, 16, 16, 256)  0          ['conv4_block1_2_bn[0][0]']      \n",
      " n)                                                                                               \n",
      "                                                                                                  \n",
      " conv4_block1_0_conv (Conv2D)   (None, 16, 16, 1024  525312      ['conv4_block1_preact_relu[0][0]'\n",
      "                                )                                ]                                \n",
      "                                                                                                  \n",
      " conv4_block1_3_conv (Conv2D)   (None, 16, 16, 1024  263168      ['conv4_block1_2_relu[0][0]']    \n",
      "                                )                                                                 \n",
      "                                                                                                  \n",
      " conv4_block1_out (Add)         (None, 16, 16, 1024  0           ['conv4_block1_0_conv[0][0]',    \n",
      "                                )                                 'conv4_block1_3_conv[0][0]']    \n",
      "                                                                                                  \n",
      " conv4_block2_preact_bn (BatchN  (None, 16, 16, 1024  4096       ['conv4_block1_out[0][0]']       \n",
      " ormalization)                  )                                                                 \n",
      "                                                                                                  \n",
      " conv4_block2_preact_relu (Acti  (None, 16, 16, 1024  0          ['conv4_block2_preact_bn[0][0]'] \n",
      " vation)                        )                                                                 \n",
      "                                                                                                  \n",
      " conv4_block2_1_conv (Conv2D)   (None, 16, 16, 256)  262144      ['conv4_block2_preact_relu[0][0]'\n",
      "                                                                 ]                                \n",
      "                                                                                                  \n",
      " conv4_block2_1_bn (BatchNormal  (None, 16, 16, 256)  1024       ['conv4_block2_1_conv[0][0]']    \n",
      " ization)                                                                                         \n",
      "                                                                                                  \n",
      " conv4_block2_1_relu (Activatio  (None, 16, 16, 256)  0          ['conv4_block2_1_bn[0][0]']      \n",
      " n)                                                                                               \n",
      "                                                                                                  \n",
      " conv4_block2_2_pad (ZeroPaddin  (None, 18, 18, 256)  0          ['conv4_block2_1_relu[0][0]']    \n",
      " g2D)                                                                                             \n",
      "                                                                                                  \n",
      " conv4_block2_2_conv (Conv2D)   (None, 16, 16, 256)  589824      ['conv4_block2_2_pad[0][0]']     \n",
      "                                                                                                  \n",
      " conv4_block2_2_bn (BatchNormal  (None, 16, 16, 256)  1024       ['conv4_block2_2_conv[0][0]']    \n",
      " ization)                                                                                         \n",
      "                                                                                                  \n",
      " conv4_block2_2_relu (Activatio  (None, 16, 16, 256)  0          ['conv4_block2_2_bn[0][0]']      \n",
      " n)                                                                                               \n",
      "                                                                                                  \n",
      " conv4_block2_3_conv (Conv2D)   (None, 16, 16, 1024  263168      ['conv4_block2_2_relu[0][0]']    \n",
      "                                )                                                                 \n",
      "                                                                                                  \n",
      " conv4_block2_out (Add)         (None, 16, 16, 1024  0           ['conv4_block1_out[0][0]',       \n",
      "                                )                                 'conv4_block2_3_conv[0][0]']    \n",
      "                                                                                                  \n",
      " conv4_block3_preact_bn (BatchN  (None, 16, 16, 1024  4096       ['conv4_block2_out[0][0]']       \n",
      " ormalization)                  )                                                                 \n",
      "                                                                                                  \n",
      " conv4_block3_preact_relu (Acti  (None, 16, 16, 1024  0          ['conv4_block3_preact_bn[0][0]'] \n",
      " vation)                        )                                                                 \n",
      "                                                                                                  \n",
      " conv4_block3_1_conv (Conv2D)   (None, 16, 16, 256)  262144      ['conv4_block3_preact_relu[0][0]'\n",
      "                                                                 ]                                \n",
      "                                                                                                  \n",
      " conv4_block3_1_bn (BatchNormal  (None, 16, 16, 256)  1024       ['conv4_block3_1_conv[0][0]']    \n",
      " ization)                                                                                         \n",
      "                                                                                                  \n",
      " conv4_block3_1_relu (Activatio  (None, 16, 16, 256)  0          ['conv4_block3_1_bn[0][0]']      \n",
      " n)                                                                                               \n",
      "                                                                                                  \n",
      " conv4_block3_2_pad (ZeroPaddin  (None, 18, 18, 256)  0          ['conv4_block3_1_relu[0][0]']    \n",
      " g2D)                                                                                             \n",
      "                                                                                                  \n",
      " conv4_block3_2_conv (Conv2D)   (None, 16, 16, 256)  589824      ['conv4_block3_2_pad[0][0]']     \n",
      "                                                                                                  \n",
      " conv4_block3_2_bn (BatchNormal  (None, 16, 16, 256)  1024       ['conv4_block3_2_conv[0][0]']    \n",
      " ization)                                                                                         \n"
     ]
    },
    {
     "name": "stdout",
     "output_type": "stream",
     "text": [
      "                                                                                                  \n",
      " conv4_block3_2_relu (Activatio  (None, 16, 16, 256)  0          ['conv4_block3_2_bn[0][0]']      \n",
      " n)                                                                                               \n",
      "                                                                                                  \n",
      " conv4_block3_3_conv (Conv2D)   (None, 16, 16, 1024  263168      ['conv4_block3_2_relu[0][0]']    \n",
      "                                )                                                                 \n",
      "                                                                                                  \n",
      " conv4_block3_out (Add)         (None, 16, 16, 1024  0           ['conv4_block2_out[0][0]',       \n",
      "                                )                                 'conv4_block3_3_conv[0][0]']    \n",
      "                                                                                                  \n",
      " conv4_block4_preact_bn (BatchN  (None, 16, 16, 1024  4096       ['conv4_block3_out[0][0]']       \n",
      " ormalization)                  )                                                                 \n",
      "                                                                                                  \n",
      " conv4_block4_preact_relu (Acti  (None, 16, 16, 1024  0          ['conv4_block4_preact_bn[0][0]'] \n",
      " vation)                        )                                                                 \n",
      "                                                                                                  \n",
      " conv4_block4_1_conv (Conv2D)   (None, 16, 16, 256)  262144      ['conv4_block4_preact_relu[0][0]'\n",
      "                                                                 ]                                \n",
      "                                                                                                  \n",
      " conv4_block4_1_bn (BatchNormal  (None, 16, 16, 256)  1024       ['conv4_block4_1_conv[0][0]']    \n",
      " ization)                                                                                         \n",
      "                                                                                                  \n",
      " conv4_block4_1_relu (Activatio  (None, 16, 16, 256)  0          ['conv4_block4_1_bn[0][0]']      \n",
      " n)                                                                                               \n",
      "                                                                                                  \n",
      " conv4_block4_2_pad (ZeroPaddin  (None, 18, 18, 256)  0          ['conv4_block4_1_relu[0][0]']    \n",
      " g2D)                                                                                             \n",
      "                                                                                                  \n",
      " conv4_block4_2_conv (Conv2D)   (None, 16, 16, 256)  589824      ['conv4_block4_2_pad[0][0]']     \n",
      "                                                                                                  \n",
      " conv4_block4_2_bn (BatchNormal  (None, 16, 16, 256)  1024       ['conv4_block4_2_conv[0][0]']    \n",
      " ization)                                                                                         \n",
      "                                                                                                  \n",
      " conv4_block4_2_relu (Activatio  (None, 16, 16, 256)  0          ['conv4_block4_2_bn[0][0]']      \n",
      " n)                                                                                               \n",
      "                                                                                                  \n",
      " conv4_block4_3_conv (Conv2D)   (None, 16, 16, 1024  263168      ['conv4_block4_2_relu[0][0]']    \n",
      "                                )                                                                 \n",
      "                                                                                                  \n",
      " conv4_block4_out (Add)         (None, 16, 16, 1024  0           ['conv4_block3_out[0][0]',       \n",
      "                                )                                 'conv4_block4_3_conv[0][0]']    \n",
      "                                                                                                  \n",
      " conv4_block5_preact_bn (BatchN  (None, 16, 16, 1024  4096       ['conv4_block4_out[0][0]']       \n",
      " ormalization)                  )                                                                 \n",
      "                                                                                                  \n",
      " conv4_block5_preact_relu (Acti  (None, 16, 16, 1024  0          ['conv4_block5_preact_bn[0][0]'] \n",
      " vation)                        )                                                                 \n",
      "                                                                                                  \n",
      " conv4_block5_1_conv (Conv2D)   (None, 16, 16, 256)  262144      ['conv4_block5_preact_relu[0][0]'\n",
      "                                                                 ]                                \n",
      "                                                                                                  \n",
      " conv4_block5_1_bn (BatchNormal  (None, 16, 16, 256)  1024       ['conv4_block5_1_conv[0][0]']    \n",
      " ization)                                                                                         \n",
      "                                                                                                  \n",
      " conv4_block5_1_relu (Activatio  (None, 16, 16, 256)  0          ['conv4_block5_1_bn[0][0]']      \n",
      " n)                                                                                               \n",
      "                                                                                                  \n",
      " conv4_block5_2_pad (ZeroPaddin  (None, 18, 18, 256)  0          ['conv4_block5_1_relu[0][0]']    \n",
      " g2D)                                                                                             \n",
      "                                                                                                  \n",
      " conv4_block5_2_conv (Conv2D)   (None, 16, 16, 256)  589824      ['conv4_block5_2_pad[0][0]']     \n",
      "                                                                                                  \n",
      " conv4_block5_2_bn (BatchNormal  (None, 16, 16, 256)  1024       ['conv4_block5_2_conv[0][0]']    \n",
      " ization)                                                                                         \n",
      "                                                                                                  \n",
      " conv4_block5_2_relu (Activatio  (None, 16, 16, 256)  0          ['conv4_block5_2_bn[0][0]']      \n",
      " n)                                                                                               \n",
      "                                                                                                  \n",
      " conv4_block5_3_conv (Conv2D)   (None, 16, 16, 1024  263168      ['conv4_block5_2_relu[0][0]']    \n",
      "                                )                                                                 \n",
      "                                                                                                  \n",
      " conv4_block5_out (Add)         (None, 16, 16, 1024  0           ['conv4_block4_out[0][0]',       \n",
      "                                )                                 'conv4_block5_3_conv[0][0]']    \n",
      "                                                                                                  \n",
      " conv4_block6_preact_bn (BatchN  (None, 16, 16, 1024  4096       ['conv4_block5_out[0][0]']       \n",
      " ormalization)                  )                                                                 \n",
      "                                                                                                  \n",
      " conv4_block6_preact_relu (Acti  (None, 16, 16, 1024  0          ['conv4_block6_preact_bn[0][0]'] \n",
      " vation)                        )                                                                 \n",
      "                                                                                                  \n",
      " conv4_block6_1_conv (Conv2D)   (None, 16, 16, 256)  262144      ['conv4_block6_preact_relu[0][0]'\n",
      "                                                                 ]                                \n",
      "                                                                                                  \n"
     ]
    },
    {
     "name": "stdout",
     "output_type": "stream",
     "text": [
      " conv4_block6_1_bn (BatchNormal  (None, 16, 16, 256)  1024       ['conv4_block6_1_conv[0][0]']    \n",
      " ization)                                                                                         \n",
      "                                                                                                  \n",
      " conv4_block6_1_relu (Activatio  (None, 16, 16, 256)  0          ['conv4_block6_1_bn[0][0]']      \n",
      " n)                                                                                               \n",
      "                                                                                                  \n",
      " conv4_block6_2_pad (ZeroPaddin  (None, 18, 18, 256)  0          ['conv4_block6_1_relu[0][0]']    \n",
      " g2D)                                                                                             \n",
      "                                                                                                  \n",
      " conv4_block6_2_conv (Conv2D)   (None, 8, 8, 256)    589824      ['conv4_block6_2_pad[0][0]']     \n",
      "                                                                                                  \n",
      " conv4_block6_2_bn (BatchNormal  (None, 8, 8, 256)   1024        ['conv4_block6_2_conv[0][0]']    \n",
      " ization)                                                                                         \n",
      "                                                                                                  \n",
      " conv4_block6_2_relu (Activatio  (None, 8, 8, 256)   0           ['conv4_block6_2_bn[0][0]']      \n",
      " n)                                                                                               \n",
      "                                                                                                  \n",
      " max_pooling2d_7 (MaxPooling2D)  (None, 8, 8, 1024)  0           ['conv4_block5_out[0][0]']       \n",
      "                                                                                                  \n",
      " conv4_block6_3_conv (Conv2D)   (None, 8, 8, 1024)   263168      ['conv4_block6_2_relu[0][0]']    \n",
      "                                                                                                  \n",
      " conv4_block6_out (Add)         (None, 8, 8, 1024)   0           ['max_pooling2d_7[0][0]',        \n",
      "                                                                  'conv4_block6_3_conv[0][0]']    \n",
      "                                                                                                  \n",
      " conv5_block1_preact_bn (BatchN  (None, 8, 8, 1024)  4096        ['conv4_block6_out[0][0]']       \n",
      " ormalization)                                                                                    \n",
      "                                                                                                  \n",
      " conv5_block1_preact_relu (Acti  (None, 8, 8, 1024)  0           ['conv5_block1_preact_bn[0][0]'] \n",
      " vation)                                                                                          \n",
      "                                                                                                  \n",
      " conv5_block1_1_conv (Conv2D)   (None, 8, 8, 512)    524288      ['conv5_block1_preact_relu[0][0]'\n",
      "                                                                 ]                                \n",
      "                                                                                                  \n",
      " conv5_block1_1_bn (BatchNormal  (None, 8, 8, 512)   2048        ['conv5_block1_1_conv[0][0]']    \n",
      " ization)                                                                                         \n",
      "                                                                                                  \n",
      " conv5_block1_1_relu (Activatio  (None, 8, 8, 512)   0           ['conv5_block1_1_bn[0][0]']      \n",
      " n)                                                                                               \n",
      "                                                                                                  \n",
      " conv5_block1_2_pad (ZeroPaddin  (None, 10, 10, 512)  0          ['conv5_block1_1_relu[0][0]']    \n",
      " g2D)                                                                                             \n",
      "                                                                                                  \n",
      " conv5_block1_2_conv (Conv2D)   (None, 8, 8, 512)    2359296     ['conv5_block1_2_pad[0][0]']     \n",
      "                                                                                                  \n",
      " conv5_block1_2_bn (BatchNormal  (None, 8, 8, 512)   2048        ['conv5_block1_2_conv[0][0]']    \n",
      " ization)                                                                                         \n",
      "                                                                                                  \n",
      " conv5_block1_2_relu (Activatio  (None, 8, 8, 512)   0           ['conv5_block1_2_bn[0][0]']      \n",
      " n)                                                                                               \n",
      "                                                                                                  \n",
      " conv5_block1_0_conv (Conv2D)   (None, 8, 8, 2048)   2099200     ['conv5_block1_preact_relu[0][0]'\n",
      "                                                                 ]                                \n",
      "                                                                                                  \n",
      " conv5_block1_3_conv (Conv2D)   (None, 8, 8, 2048)   1050624     ['conv5_block1_2_relu[0][0]']    \n",
      "                                                                                                  \n",
      " conv5_block1_out (Add)         (None, 8, 8, 2048)   0           ['conv5_block1_0_conv[0][0]',    \n",
      "                                                                  'conv5_block1_3_conv[0][0]']    \n",
      "                                                                                                  \n",
      " conv5_block2_preact_bn (BatchN  (None, 8, 8, 2048)  8192        ['conv5_block1_out[0][0]']       \n",
      " ormalization)                                                                                    \n",
      "                                                                                                  \n",
      " conv5_block2_preact_relu (Acti  (None, 8, 8, 2048)  0           ['conv5_block2_preact_bn[0][0]'] \n",
      " vation)                                                                                          \n",
      "                                                                                                  \n",
      " conv5_block2_1_conv (Conv2D)   (None, 8, 8, 512)    1048576     ['conv5_block2_preact_relu[0][0]'\n",
      "                                                                 ]                                \n",
      "                                                                                                  \n",
      " conv5_block2_1_bn (BatchNormal  (None, 8, 8, 512)   2048        ['conv5_block2_1_conv[0][0]']    \n",
      " ization)                                                                                         \n",
      "                                                                                                  \n",
      " conv5_block2_1_relu (Activatio  (None, 8, 8, 512)   0           ['conv5_block2_1_bn[0][0]']      \n",
      " n)                                                                                               \n",
      "                                                                                                  \n",
      " conv5_block2_2_pad (ZeroPaddin  (None, 10, 10, 512)  0          ['conv5_block2_1_relu[0][0]']    \n",
      " g2D)                                                                                             \n",
      "                                                                                                  \n",
      " conv5_block2_2_conv (Conv2D)   (None, 8, 8, 512)    2359296     ['conv5_block2_2_pad[0][0]']     \n",
      "                                                                                                  \n",
      " conv5_block2_2_bn (BatchNormal  (None, 8, 8, 512)   2048        ['conv5_block2_2_conv[0][0]']    \n",
      " ization)                                                                                         \n",
      "                                                                                                  \n",
      " conv5_block2_2_relu (Activatio  (None, 8, 8, 512)   0           ['conv5_block2_2_bn[0][0]']      \n",
      " n)                                                                                               \n"
     ]
    },
    {
     "name": "stdout",
     "output_type": "stream",
     "text": [
      "                                                                                                  \n",
      " conv5_block2_3_conv (Conv2D)   (None, 8, 8, 2048)   1050624     ['conv5_block2_2_relu[0][0]']    \n",
      "                                                                                                  \n",
      " conv5_block2_out (Add)         (None, 8, 8, 2048)   0           ['conv5_block1_out[0][0]',       \n",
      "                                                                  'conv5_block2_3_conv[0][0]']    \n",
      "                                                                                                  \n",
      " conv5_block3_preact_bn (BatchN  (None, 8, 8, 2048)  8192        ['conv5_block2_out[0][0]']       \n",
      " ormalization)                                                                                    \n",
      "                                                                                                  \n",
      " conv5_block3_preact_relu (Acti  (None, 8, 8, 2048)  0           ['conv5_block3_preact_bn[0][0]'] \n",
      " vation)                                                                                          \n",
      "                                                                                                  \n",
      " conv5_block3_1_conv (Conv2D)   (None, 8, 8, 512)    1048576     ['conv5_block3_preact_relu[0][0]'\n",
      "                                                                 ]                                \n",
      "                                                                                                  \n",
      " conv5_block3_1_bn (BatchNormal  (None, 8, 8, 512)   2048        ['conv5_block3_1_conv[0][0]']    \n",
      " ization)                                                                                         \n",
      "                                                                                                  \n",
      " conv5_block3_1_relu (Activatio  (None, 8, 8, 512)   0           ['conv5_block3_1_bn[0][0]']      \n",
      " n)                                                                                               \n",
      "                                                                                                  \n",
      " conv5_block3_2_pad (ZeroPaddin  (None, 10, 10, 512)  0          ['conv5_block3_1_relu[0][0]']    \n",
      " g2D)                                                                                             \n",
      "                                                                                                  \n",
      " conv5_block3_2_conv (Conv2D)   (None, 8, 8, 512)    2359296     ['conv5_block3_2_pad[0][0]']     \n",
      "                                                                                                  \n",
      " conv5_block3_2_bn (BatchNormal  (None, 8, 8, 512)   2048        ['conv5_block3_2_conv[0][0]']    \n",
      " ization)                                                                                         \n",
      "                                                                                                  \n",
      " conv5_block3_2_relu (Activatio  (None, 8, 8, 512)   0           ['conv5_block3_2_bn[0][0]']      \n",
      " n)                                                                                               \n",
      "                                                                                                  \n",
      " conv5_block3_3_conv (Conv2D)   (None, 8, 8, 2048)   1050624     ['conv5_block3_2_relu[0][0]']    \n",
      "                                                                                                  \n",
      " conv5_block3_out (Add)         (None, 8, 8, 2048)   0           ['conv5_block2_out[0][0]',       \n",
      "                                                                  'conv5_block3_3_conv[0][0]']    \n",
      "                                                                                                  \n",
      " post_bn (BatchNormalization)   (None, 8, 8, 2048)   8192        ['conv5_block3_out[0][0]']       \n",
      "                                                                                                  \n",
      " post_relu (Activation)         (None, 8, 8, 2048)   0           ['post_bn[0][0]']                \n",
      "                                                                                                  \n",
      " global_average_pooling2d_1 (Gl  (None, 2048)        0           ['post_relu[0][0]']              \n",
      " obalAveragePooling2D)                                                                            \n",
      "                                                                                                  \n",
      " dense_4 (Dense)                (None, 128)          262272      ['global_average_pooling2d_1[0][0\n",
      "                                                                 ]']                              \n",
      "                                                                                                  \n",
      " dense_5 (Dense)                (None, 4)            516         ['dense_4[0][0]']                \n",
      "                                                                                                  \n",
      "==================================================================================================\n",
      "Total params: 23,827,588\n",
      "Trainable params: 262,788\n",
      "Non-trainable params: 23,564,800\n",
      "__________________________________________________________________________________________________\n"
     ]
    }
   ],
   "source": [
    "from tensorflow.keras.applications import ResNet50V2\n",
    "\n",
    "base_model=ResNet50V2(input_shape=(256,256,3),weights='imagenet',include_top=False) \n",
    "\n",
    "# freeze the base model (for transfer learning)\n",
    "base_model.trainable = False \n",
    "\n",
    "# add Fully-Connected Layers to Model\n",
    "x=base_model.output\n",
    "x=layers.GlobalAveragePooling2D()(x)\n",
    "x=layers.Dense(128,activation='relu')(x)  # FC layer \n",
    "preds=layers.Dense(4,activation='softmax')(x) #final layer with softmax activation\n",
    "\n",
    "model=models.Model(inputs=base_model.input,outputs=preds)\n",
    "\n",
    "# printing the summary of the model\n",
    "model.summary()"
   ]
  },
  {
   "cell_type": "code",
   "execution_count": 41,
   "id": "94ee2e5c",
   "metadata": {},
   "outputs": [],
   "source": [
    "# compiling the model \n",
    "model.compile(loss='categorical_crossentropy', optimizer='Adam', metrics=['accuracy'])"
   ]
  },
  {
   "cell_type": "code",
   "execution_count": 42,
   "id": "e5f89494",
   "metadata": {},
   "outputs": [
    {
     "name": "stdout",
     "output_type": "stream",
     "text": [
      "Epoch 1/30\n",
      "174/174 [==============================] - 153s 862ms/step - loss: 0.8487 - accuracy: 0.6332 - val_loss: 0.7412 - val_accuracy: 0.6940\n",
      "Epoch 2/30\n",
      "174/174 [==============================] - 154s 883ms/step - loss: 0.6918 - accuracy: 0.7052 - val_loss: 0.7641 - val_accuracy: 0.6821\n",
      "Epoch 3/30\n",
      "174/174 [==============================] - 156s 899ms/step - loss: 0.6362 - accuracy: 0.7282 - val_loss: 0.7086 - val_accuracy: 0.7101\n",
      "Epoch 4/30\n",
      "174/174 [==============================] - 162s 930ms/step - loss: 0.6002 - accuracy: 0.7495 - val_loss: 0.6264 - val_accuracy: 0.7511\n",
      "Epoch 5/30\n",
      "174/174 [==============================] - 156s 896ms/step - loss: 0.5630 - accuracy: 0.7689 - val_loss: 0.6153 - val_accuracy: 0.7543\n",
      "Epoch 6/30\n",
      "174/174 [==============================] - 153s 876ms/step - loss: 0.5520 - accuracy: 0.7682 - val_loss: 0.6177 - val_accuracy: 0.7457\n",
      "Epoch 7/30\n",
      "174/174 [==============================] - 174s 998ms/step - loss: 0.5478 - accuracy: 0.7700 - val_loss: 0.5747 - val_accuracy: 0.7791\n",
      "Epoch 8/30\n",
      "174/174 [==============================] - 174s 1s/step - loss: 0.5126 - accuracy: 0.7862 - val_loss: 0.6016 - val_accuracy: 0.7716\n",
      "Epoch 9/30\n",
      "174/174 [==============================] - 166s 955ms/step - loss: 0.5142 - accuracy: 0.7783 - val_loss: 0.6299 - val_accuracy: 0.7403\n",
      "Epoch 10/30\n",
      "174/174 [==============================] - 162s 933ms/step - loss: 0.5078 - accuracy: 0.7840 - val_loss: 0.5943 - val_accuracy: 0.7737\n",
      "Epoch 11/30\n",
      "174/174 [==============================] - 165s 949ms/step - loss: 0.4953 - accuracy: 0.7891 - val_loss: 0.5679 - val_accuracy: 0.7737\n",
      "Epoch 12/30\n",
      "174/174 [==============================] - 178s 1s/step - loss: 0.4831 - accuracy: 0.8027 - val_loss: 0.6474 - val_accuracy: 0.7425\n",
      "Epoch 13/30\n",
      "174/174 [==============================] - 177s 1s/step - loss: 0.4645 - accuracy: 0.8027 - val_loss: 0.5710 - val_accuracy: 0.7845\n",
      "Epoch 14/30\n",
      "174/174 [==============================] - 173s 993ms/step - loss: 0.4529 - accuracy: 0.8150 - val_loss: 0.6348 - val_accuracy: 0.7446\n",
      "Epoch 15/30\n",
      "174/174 [==============================] - 174s 998ms/step - loss: 0.4540 - accuracy: 0.8161 - val_loss: 0.5761 - val_accuracy: 0.7694\n",
      "Epoch 16/30\n",
      "174/174 [==============================] - 174s 998ms/step - loss: 0.4690 - accuracy: 0.8071 - val_loss: 0.6088 - val_accuracy: 0.7791\n",
      "Epoch 17/30\n",
      "174/174 [==============================] - 166s 953ms/step - loss: 0.4409 - accuracy: 0.8114 - val_loss: 0.5905 - val_accuracy: 0.7812\n",
      "Epoch 18/30\n",
      "174/174 [==============================] - 160s 919ms/step - loss: 0.4213 - accuracy: 0.8294 - val_loss: 0.6505 - val_accuracy: 0.7662\n",
      "Epoch 19/30\n",
      "174/174 [==============================] - 163s 940ms/step - loss: 0.4200 - accuracy: 0.8261 - val_loss: 0.5734 - val_accuracy: 0.7802\n",
      "Epoch 20/30\n",
      "174/174 [==============================] - 165s 949ms/step - loss: 0.4114 - accuracy: 0.8279 - val_loss: 0.6126 - val_accuracy: 0.7716\n",
      "Epoch 21/30\n",
      "174/174 [==============================] - 166s 956ms/step - loss: 0.4021 - accuracy: 0.8384 - val_loss: 0.6136 - val_accuracy: 0.7737\n",
      "Epoch 22/30\n",
      "174/174 [==============================] - 162s 930ms/step - loss: 0.4079 - accuracy: 0.8290 - val_loss: 0.5709 - val_accuracy: 0.7769\n",
      "Epoch 23/30\n",
      "174/174 [==============================] - 161s 925ms/step - loss: 0.3958 - accuracy: 0.8402 - val_loss: 0.5871 - val_accuracy: 0.7877\n",
      "Epoch 24/30\n",
      "174/174 [==============================] - 154s 885ms/step - loss: 0.3991 - accuracy: 0.8337 - val_loss: 0.5623 - val_accuracy: 0.7931\n",
      "Epoch 25/30\n",
      "174/174 [==============================] - 155s 892ms/step - loss: 0.3930 - accuracy: 0.8362 - val_loss: 0.5723 - val_accuracy: 0.7888\n",
      "Epoch 26/30\n",
      "174/174 [==============================] - 211s 1s/step - loss: 0.3819 - accuracy: 0.8369 - val_loss: 0.6254 - val_accuracy: 0.7845\n",
      "Epoch 27/30\n",
      "174/174 [==============================] - 214s 1s/step - loss: 0.3803 - accuracy: 0.8416 - val_loss: 0.5893 - val_accuracy: 0.7834\n",
      "Epoch 28/30\n",
      "174/174 [==============================] - 209s 1s/step - loss: 0.3806 - accuracy: 0.8391 - val_loss: 0.5896 - val_accuracy: 0.7802\n",
      "Epoch 29/30\n",
      "174/174 [==============================] - 209s 1s/step - loss: 0.3770 - accuracy: 0.8434 - val_loss: 0.5511 - val_accuracy: 0.7834\n",
      "Epoch 30/30\n",
      "174/174 [==============================] - 210s 1s/step - loss: 0.3576 - accuracy: 0.8571 - val_loss: 0.6689 - val_accuracy: 0.7651\n"
     ]
    }
   ],
   "source": [
    "# training the model\n",
    "history = model.fit(train_gen,steps_per_epoch=STEP_SIZE_TRAIN,epochs=num_epochs,\n",
    "                    validation_data=val_gen, validation_steps=STEP_SIZE_VAL)"
   ]
  },
  {
   "cell_type": "code",
   "execution_count": 49,
   "id": "855845aa",
   "metadata": {},
   "outputs": [
    {
     "data": {
      "image/png": "[encoded data removed]",
      "text/plain": [
       "<Figure size 432x288 with 1 Axes>"
      ]
     },
     "metadata": {
      "needs_background": "light"
     },
     "output_type": "display_data"
    },
    {
     "data": {
      "image/png": "[encoded data removed]",
      "text/plain": [
       "<Figure size 432x288 with 1 Axes>"
      ]
     },
     "metadata": {
      "needs_background": "light"
     },
     "output_type": "display_data"
    }
   ],
   "source": [
    "plothistory(history)"
   ]
  },
  {
   "cell_type": "code",
   "execution_count": 50,
   "id": "5397e47c",
   "metadata": {},
   "outputs": [],
   "source": [
    "models.save_model(model, 'model_resnet50v2.h5')"
   ]
  },
  {
   "cell_type": "code",
   "execution_count": 51,
   "id": "87cefca6",
   "metadata": {},
   "outputs": [
    {
     "name": "stdout",
     "output_type": "stream",
     "text": [
      "58/58 [==============================] - 41s 712ms/step - loss: 0.6689 - accuracy: 0.7651\n",
      "[0.6689108610153198, 0.7650862336158752]\n"
     ]
    }
   ],
   "source": [
    "# evaluating the model on the test datatset\n",
    "score = model.evaluate(test_gen, steps=STEP_SIZE_TEST) # with test dataset\n",
    "print(score)"
   ]
  },
  {
   "cell_type": "code",
   "execution_count": 52,
   "id": "3006b7da",
   "metadata": {},
   "outputs": [
    {
     "name": "stdout",
     "output_type": "stream",
     "text": [
      "59/59 [==============================] - 43s 731ms/step\n",
      "[[ 50  52  26   1]\n",
      " [  2 201  55  17]\n",
      " [  0  46 226   6]\n",
      " [  0   7   8 235]]\n"
     ]
    }
   ],
   "source": [
    "# model evaluation \n",
    "\n",
    "predY=model.predict(test_gen) \n",
    "y_pred = np.argmax(predY,axis=1)\n",
    "y_actual = test_gen.classes\n",
    "\n",
    "# printing the confusion matrix\n",
    "cm = confusion_matrix(y_actual, y_pred)\n",
    "print(cm)"
   ]
  },
  {
   "cell_type": "code",
   "execution_count": 53,
   "id": "3806cd70",
   "metadata": {},
   "outputs": [
    {
     "name": "stdout",
     "output_type": "stream",
     "text": [
      "              precision    recall  f1-score   support\n",
      "\n",
      "           0       0.96      0.39      0.55       129\n",
      "           1       0.66      0.73      0.69       275\n",
      "           2       0.72      0.81      0.76       278\n",
      "           3       0.91      0.94      0.92       250\n",
      "\n",
      "    accuracy                           0.76       932\n",
      "   macro avg       0.81      0.72      0.73       932\n",
      "weighted avg       0.78      0.76      0.76       932\n",
      "\n"
     ]
    }
   ],
   "source": [
    "# printing the classificaion report\n",
    "print(classification_report(y_actual, y_pred))"
   ]
  },
  {
   "cell_type": "code",
   "execution_count": 54,
   "id": "eea1a547",
   "metadata": {},
   "outputs": [
    {
     "name": "stdout",
     "output_type": "stream",
     "text": [
      "The accuracy of the CNN model is 0.764\n",
      "The f1 score of the CNN model is 0.756\n",
      "The recall of the CNN model is 0.764\n",
      "The precision of the CNN model is 0.784\n"
     ]
    }
   ],
   "source": [
    "accuracy = accuracy_score(test_gen.classes, y_pred)\n",
    "print(\"The accuracy of the CNN model is {:.3f}\".format(accuracy))\n",
    "\n",
    "f1 = f1_score(test_gen.classes, y_pred, average='weighted')\n",
    "print(\"The f1 score of the CNN model is {:.3f}\".format(f1))\n",
    "\n",
    "recall = recall_score(test_gen.classes, y_pred, average='weighted')\n",
    "print(\"The recall of the CNN model is {:.3f}\".format(recall))\n",
    "\n",
    "precision = precision_score(test_gen.classes, y_pred, average='weighted')\n",
    "print(\"The precision of the CNN model is {:.3f}\".format(precision))"
   ]
  },
  {
   "cell_type": "code",
   "execution_count": null,
   "id": "47f0d2ca",
   "metadata": {},
   "outputs": [],
   "source": []
  }
 ],
 "metadata": {
  "kernelspec": {
   "display_name": "Python 3 (ipykernel)",
   "language": "python",
   "name": "python3"
  },
  "language_info": {
   "codemirror_mode": {
    "name": "ipython",
    "version": 3
   },
   "file_extension": ".py",
   "mimetype": "text/x-python",
   "name": "python",
   "nbconvert_exporter": "python",
   "pygments_lexer": "ipython3",
   "version": "3.9.12"
  }
 },
 "nbformat": 4,
 "nbformat_minor": 5
}
